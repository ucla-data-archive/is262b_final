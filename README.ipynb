{
 "cells": [
  {
   "cell_type": "markdown",
   "metadata": {},
   "source": [
    "# gapminder"
   ]
  },
  {
   "cell_type": "markdown",
   "metadata": {},
   "source": [
    "## Author Information\n",
    "\n",
    "**Name**: Doug Daniels  \n",
    "**Institution**: UCLA  \n",
    "**Email**: dougdaniels@library.ucla.edu\n",
    "\n",
    "**Name**: Tim Dennis  \n",
    "**Institution**: UCLA  \n",
    "**Email**: tdennis@library.ucla.edu"
   ]
  },
  {
   "cell_type": "markdown",
   "metadata": {},
   "source": [
    "## Data & File Overview\n",
    "\n",
    "Excerpt from the Gapminder data for the purpose of instruction and demonstrating computational reproducibility in Dataverse. This data is an excerpt of data found in specific spreadsheets on [Gapminder.org](https://www.gapminder.org/) circa 2010. It is not a definitive source of socioeconomic data will not be updated. Use other data sources if it’s important to have the current best estimate of these statistics.\n",
    "\n",
    "The gapminder data include six variables, ([Gapminder.org documentation page](https://www.gapminder.org/data/documentation/)):"
   ]
  },
  {
   "cell_type": "markdown",
   "metadata": {},
   "source": [
    "| variable | meaning |\n",
    "|:---------|:--------|\n",
    "| country  |         | \n",
    "| continent\t|        |\n",
    "| year\t   |         |\n",
    "| lifeExp  | life expectancy at birth |\n",
    "| pop      | total population  | \n",
    "| gdpPercap | per-capita GDP |"
   ]
  },
  {
   "cell_type": "markdown",
   "metadata": {},
   "source": [
    "Per-capita GDP (Gross domestic product) is given in units of international dollars, “a hypothetical unit of currency that has the same purchasing power parity that the U.S. dollar had in the United States at a given point in time” – 2005, in this case."
   ]
  },
  {
   "cell_type": "markdown",
   "metadata": {},
   "source": [
    "## Geographic location of data collection\n",
    "\n",
    "* 195 states recognised by the UN which include 193 member states and 2 observing states\n",
    "* 4 regions: The Americas, "
   ]
  },
  {
   "cell_type": "markdown",
   "metadata": {},
   "source": [
    "## File List"
   ]
  },
  {
   "cell_type": "markdown",
   "metadata": {},
   "source": [
    "|Filename | Description | \n",
    "|:--------|:------------| \n",
    "|IS262B_Daniels_Final_Project_WIP.ipynb | Jupyter Notebook demonstrating use of `gapminder data` |\n",
    "|IS262B_Daniels_Final_Project_WIP.pdf | PDF output of Jupyter Notebook above | \n",
    "|README.ipynb | Jupyter Notebook Readme file of contents of repository | \n",
    "|README.md  | Jupyter Notebook converted to markdown | \n",
    "|my_figure.png | Figure saved from notebook  | \n",
    "|requirements.txt | A list of Python modules used in Jupyter notebook & used by Mybinder to build Python environment| \n",
    "|data/gapminder_all_data.tab |  | \n",
    "|data/gapminder_gdp_africa.tab | Subset of gapminder_all_data.tab by African countries |\n",
    "|data/gapminder_gdp_asia.tab | Subset of gapminder_all_data.tab by Asian countries | \n",
    "|data/gapminder_gdp_europe.tab | Subset of gapminder_all_data.tab by European countries | \n",
    "|data/gapminder_gdp_oceania.tab | Subset of gapminder_all_data.tab by Oceania countries | \n",
    "|data/gapminder_wide.tab | Rawer version of gapminder_all_data.tab with indicators and years in columns | \n"
   ]
  },
  {
   "cell_type": "markdown",
   "metadata": {},
   "source": [
    "## Sharing/Acess Information\n",
    "\n",
    "Data are available freely under [CC BY 4.0 LICENCE](https://creativecommons.org/licenses/by/4.0/)"
   ]
  },
  {
   "cell_type": "code",
   "execution_count": null,
   "metadata": {},
   "outputs": [],
   "source": []
  }
 ],
 "metadata": {
  "kernelspec": {
   "display_name": "Python 3",
   "language": "python",
   "name": "python3"
  },
  "language_info": {
   "codemirror_mode": {
    "name": "ipython",
    "version": 3
   },
   "file_extension": ".py",
   "mimetype": "text/x-python",
   "name": "python",
   "nbconvert_exporter": "python",
   "pygments_lexer": "ipython3",
   "version": "3.7.3"
  }
 },
 "nbformat": 4,
 "nbformat_minor": 4
}
