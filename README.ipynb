{
 "cells": [
  {
   "cell_type": "markdown",
   "metadata": {},
   "source": [
    "# gapminder"
   ]
  },
  {
   "cell_type": "markdown",
   "metadata": {},
   "source": [
    "## Author Information\n",
    "\n",
    "**Name**: Doug Daniels  \n",
    "**Institution**: UCLA  \n",
    "**Email**: \n",
    "\n",
    "**Name**: Tim Dennis  \n",
    "**Institution**: UCLA  \n",
    "**Email**: tdennis@library.ucla.edu"
   ]
  },
  {
   "cell_type": "markdown",
   "metadata": {},
   "source": [
    "## Data & File Overview\n",
    "\n",
    "Excerpt from the Gapminder data for the purpose of instruction. It is an excerpt of data found in specific spreadsheets on [Gapminder.org](https://www.gapminder.org/) circa 2010. It is not a definitive source of socioeconomic data will not be updated. Use other data sources if it’s important to have the current best estimate of these statistics.\n",
    "\n",
    "The gapminder data include six variables, ([Gapminder.org documentation page](https://www.gapminder.org/data/documentation/)):"
   ]
  },
  {
   "cell_type": "markdown",
   "metadata": {},
   "source": [
    "| variable | meaning |\n",
    "|----------|---------|\n",
    "| country  |         | \n",
    "| continent\t|        |\n",
    "| year\t   |         |\n",
    "| lifeExp  | life expectancy at birth |\n",
    "| pop      | total population  | \n",
    "| gdpPercap | per-capita GDP |"
   ]
  },
  {
   "cell_type": "markdown",
   "metadata": {},
   "source": [
    "Per-capita GDP (Gross domestic product) is given in units of international dollars, “a hypothetical unit of currency that has the same purchasing power parity that the U.S. dollar had in the United States at a given point in time” – 2005, in this case."
   ]
  },
  {
   "cell_type": "markdown",
   "metadata": {},
   "source": [
    "1. File List: \n",
    "<list all files (or folders, as appropriate for dataset organization) contained in the dataset, with a brief description>"
   ]
  },
  {
   "cell_type": "code",
   "execution_count": 3,
   "metadata": {
    "scrolled": true
   },
   "outputs": [
    {
     "name": "stdout",
     "output_type": "stream",
     "text": [
      "\u001b[01;34m.\u001b[00m\r\n",
      "├── IS262B_Daniels_Final_Project_WIP.ipynb\r\n",
      "├── IS262B_Daniels_Final_Project_WIP.pdf\r\n",
      "├── README.ipynb\r\n",
      "├── README.md\r\n",
      "├── \u001b[01;34mdata\u001b[00m\r\n",
      "│   ├── \u001b[01;32mgapminder-FiveYearData.tab\u001b[00m\r\n",
      "│   ├── \u001b[01;32mgapminder_all_data.tab\u001b[00m\r\n",
      "│   ├── \u001b[01;32mgapminder_gdp_africa.tab\u001b[00m\r\n",
      "│   ├── \u001b[01;32mgapminder_gdp_asia.tab\u001b[00m\r\n",
      "│   ├── \u001b[01;32mgapminder_gdp_europe.tab\u001b[00m\r\n",
      "│   ├── \u001b[01;32mgapminder_gdp_oceania.tab\u001b[00m\r\n",
      "│   └── \u001b[01;32mgapminder_wide.tab\u001b[00m\r\n",
      "├── my_figure.png\r\n",
      "└── \u001b[01;32mrequirements.txt\u001b[00m\r\n",
      "\r\n",
      "1 directory, 13 files\r\n"
     ]
    }
   ],
   "source": [
    "!tree"
   ]
  },
  {
   "cell_type": "markdown",
   "metadata": {},
   "source": [
    "## Geographic location of data collection\n",
    "\n",
    "* 195 states recognised by the UN which include 193 member states and 2 observing states\n",
    "* 4 regions: The Americas, "
   ]
  },
  {
   "cell_type": "markdown",
   "metadata": {},
   "source": [
    "## SHARING/ACCESS INFORMATION\n",
    "\n",
    "Data are available freely under [CC BY 4.0 LICENCE](https://creativecommons.org/licenses/by/4.0/)"
   ]
  },
  {
   "cell_type": "markdown",
   "metadata": {},
   "source": [
    "2. Relationship between files, if important: \n",
    "\n",
    "3. Additional related data collected that was not included in the current data package: \n",
    "\n",
    "4. Are there multiple versions of the dataset? yes/no\n",
    "\tA. If yes, name of file(s) that was updated: \n",
    "\t\ti. Why was the file updated? \n",
    "\t\tii. When was the file updated? "
   ]
  },
  {
   "cell_type": "markdown",
   "metadata": {},
   "source": [
    "METHODOLOGICAL INFORMATION\n",
    "\n",
    "1. Description of methods used for collection/generation of data: \n",
    "<Include links or references to publications or other documentation containing experimental design or protocols used in data collection>\n",
    "\n",
    "2. Methods for processing the data: \n",
    "<describe how the submitted data were generated from the raw or collected data>\n",
    "\n",
    "3. Instrument- or software-specific information needed to interpret the data: \n",
    "<include full name and version of software, and any necessary packages or libraries needed to run scripts>\n",
    "\n",
    "4. Standards and calibration information, if appropriate: \n",
    "\n",
    "5. Environmental/experimental conditions: \n",
    "\n",
    "6. Describe any quality-assurance procedures performed on the data: \n",
    "\n",
    "7. People involved with sample collection, processing, analysis and/or submission: "
   ]
  },
  {
   "attachments": {},
   "cell_type": "markdown",
   "metadata": {},
   "source": [
    "DATA-SPECIFIC INFORMATION FOR: [FILENAME]\n",
    "<repeat this section for each dataset, folder or file, as appropriate>\n",
    "\n",
    "1. Number of variables: \n",
    "\n",
    "2. Number of cases/rows: \n",
    "\n",
    "3. Variable List: \n",
    "<list variable name(s), description(s), unit(s)and value labels as appropriate for each>\n",
    "\n",
    "4. Missing data codes: \n",
    "<list code/symbol and definition>n\n",
    "\n",
    "5. Specialized formats or other abbreviations used: "
   ]
  },
  {
   "cell_type": "code",
   "execution_count": null,
   "metadata": {},
   "outputs": [],
   "source": []
  }
 ],
 "metadata": {
  "kernelspec": {
   "display_name": "Python 3",
   "language": "python",
   "name": "python3"
  },
  "language_info": {
   "codemirror_mode": {
    "name": "ipython",
    "version": 3
   },
   "file_extension": ".py",
   "mimetype": "text/x-python",
   "name": "python",
   "nbconvert_exporter": "python",
   "pygments_lexer": "ipython3",
   "version": "3.7.3"
  }
 },
 "nbformat": 4,
 "nbformat_minor": 4
}
